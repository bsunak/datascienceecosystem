{
 "cells": [
  {
   "cell_type": "markdown",
   "id": "3fb0cc96-adcb-4415-a924-2bc745e722d8",
   "metadata": {
    "tags": []
   },
   "source": [
    "# Data Science Tools and Ecosystem"
   ]
  },
  {
   "cell_type": "markdown",
   "id": "63feb7a5-dddc-4164-a678-764d4eb5cb29",
   "metadata": {},
   "source": [
    "In this notebook, Data Science Tools and Ecosystem are summarized."
   ]
  },
  {
   "cell_type": "markdown",
   "id": "d7df255a-3a9c-4bef-bd61-888e2505d3e7",
   "metadata": {},
   "source": [
    "**Objectives:**\n",
    "\n",
    "- List common languages for Data Science\n",
    "- List common libraries for Data Science\n",
    "- List data science tools\n",
    "- Evaluating arithmetic expressions in Python"
   ]
  },
  {
   "cell_type": "markdown",
   "id": "8cf4f2a2-e0cc-4373-8fb9-9df0433539c5",
   "metadata": {},
   "source": [
    "Some of the commonly used libraries used by Data Scientists include:\n",
    "1. Python\n",
    "2. R\n",
    "3. Sql\n",
    "4. Julia\n",
    "5. Scala"
   ]
  },
  {
   "cell_type": "markdown",
   "id": "7cc44388-3fb3-4118-8c74-3fe8e91e8e28",
   "metadata": {},
   "source": [
    "Some of the commonly used libraries used by Data Scientists include:\n",
    "\n",
    "1. Seaborn\n",
    "2. PyTorch\n",
    "3. Pandas\n",
    "4. NumPy\n",
    "5. SciPy"
   ]
  },
  {
   "cell_type": "markdown",
   "id": "d6a1038d-ff78-4bf7-92e8-f6385e480d5b",
   "metadata": {},
   "source": [
    "| Data Science Tools |\n",
    "| -------------|\n",
    "| Spyder |\n",
    "| PyCharm |\n",
    "| Atom |"
   ]
  },
  {
   "cell_type": "markdown",
   "id": "0534055d-50e3-47ee-86c8-54ea85ab477d",
   "metadata": {
    "tags": []
   },
   "source": [
    "### Below are a few examples of evaluating arithmetic expressions in Python"
   ]
  },
  {
   "cell_type": "code",
   "execution_count": 3,
   "id": "096090f0-a408-4027-b640-8fc34ff0ff53",
   "metadata": {
    "tags": []
   },
   "outputs": [
    {
     "data": {
      "text/plain": [
       "17"
      ]
     },
     "execution_count": 3,
     "metadata": {},
     "output_type": "execute_result"
    }
   ],
   "source": [
    "# This is a simple arithmetic expression to mutiply then add integers\n",
    "(3*4)+5"
   ]
  },
  {
   "cell_type": "code",
   "execution_count": 4,
   "id": "23dcf155-2e44-4ba6-b625-5b33805f9e80",
   "metadata": {},
   "outputs": [
    {
     "data": {
      "text/plain": [
       "3.3333333333333335"
      ]
     },
     "execution_count": 4,
     "metadata": {},
     "output_type": "execute_result"
    }
   ],
   "source": [
    "# This will convert 200 minutes to hours by diving by 60\n",
    "200/60"
   ]
  },
  {
   "cell_type": "markdown",
   "id": "73e01780-e2c6-444b-af8a-d94803a3944c",
   "metadata": {},
   "source": [
    "# Author\n",
    "Arya Katebian"
   ]
  },
  {
   "cell_type": "code",
   "execution_count": null,
   "id": "5519c455-ef60-4398-8fe4-4469b20f8b88",
   "metadata": {},
   "outputs": [],
   "source": []
  }
 ],
 "metadata": {
  "kernelspec": {
   "display_name": "Python",
   "language": "python",
   "name": "conda-env-python-py"
  },
  "language_info": {
   "codemirror_mode": {
    "name": "ipython",
    "version": 3
   },
   "file_extension": ".py",
   "mimetype": "text/x-python",
   "name": "python",
   "nbconvert_exporter": "python",
   "pygments_lexer": "ipython3",
   "version": "3.7.12"
  }
 },
 "nbformat": 4,
 "nbformat_minor": 5
}
